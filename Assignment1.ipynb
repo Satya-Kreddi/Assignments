{
 "cells": [
  {
   "cell_type": "markdown",
   "id": "097b23d9",
   "metadata": {},
   "source": [
    "# This is a heading created using HEADING option instead of code"
   ]
  },
  {
   "cell_type": "code",
   "execution_count": 1,
   "id": "de8c5e52",
   "metadata": {},
   "outputs": [
    {
     "name": "stdout",
     "output_type": "stream",
     "text": [
      "this title is printed using print command\n"
     ]
    }
   ],
   "source": [
    "#this is my first python program\n",
    "print ('this title is printed using print command')"
   ]
  },
  {
   "cell_type": "code",
   "execution_count": 2,
   "id": "2b34494f",
   "metadata": {},
   "outputs": [
    {
     "data": {
      "text/plain": [
       "'jhgkhghghghg'"
      ]
     },
     "execution_count": 2,
     "metadata": {},
     "output_type": "execute_result"
    }
   ],
   "source": [
    "\"\"\"jhgkhghghghg\"\"\""
   ]
  },
  {
   "cell_type": "markdown",
   "id": "75ea4fff",
   "metadata": {},
   "source": [
    "\"\"\"kjhkghghghghj\"\"\"\n",
    "a"
   ]
  },
  {
   "cell_type": "code",
   "execution_count": 4,
   "id": "7b979231",
   "metadata": {},
   "outputs": [
    {
     "data": {
      "text/plain": [
       "\"print ('first')\\nprint ('second')\\nprint ('third')\""
      ]
     },
     "execution_count": 4,
     "metadata": {},
     "output_type": "execute_result"
    }
   ],
   "source": [
    "\"\"\"print ('first')\n",
    "print ('second')\n",
    "print ('third')\"\"\""
   ]
  },
  {
   "cell_type": "code",
   "execution_count": 6,
   "id": "0f518e86",
   "metadata": {},
   "outputs": [],
   "source": [
    "lk=10"
   ]
  },
  {
   "cell_type": "code",
   "execution_count": 7,
   "id": "e9d63fc9",
   "metadata": {},
   "outputs": [
    {
     "data": {
      "text/plain": [
       "10"
      ]
     },
     "execution_count": 7,
     "metadata": {},
     "output_type": "execute_result"
    }
   ],
   "source": [
    "lk"
   ]
  },
  {
   "cell_type": "code",
   "execution_count": 8,
   "id": "a5b9aa8e",
   "metadata": {},
   "outputs": [
    {
     "data": {
      "text/plain": [
       "int"
      ]
     },
     "execution_count": 8,
     "metadata": {},
     "output_type": "execute_result"
    }
   ],
   "source": [
    "type(lk)"
   ]
  },
  {
   "cell_type": "code",
   "execution_count": 9,
   "id": "22c20694",
   "metadata": {},
   "outputs": [],
   "source": [
    "lk='loka'"
   ]
  },
  {
   "cell_type": "code",
   "execution_count": 10,
   "id": "06302f2f",
   "metadata": {},
   "outputs": [
    {
     "data": {
      "text/plain": [
       "'loka'"
      ]
     },
     "execution_count": 10,
     "metadata": {},
     "output_type": "execute_result"
    }
   ],
   "source": [
    "lk"
   ]
  },
  {
   "cell_type": "code",
   "execution_count": 11,
   "id": "1f505768",
   "metadata": {},
   "outputs": [
    {
     "data": {
      "text/plain": [
       "str"
      ]
     },
     "execution_count": 11,
     "metadata": {},
     "output_type": "execute_result"
    }
   ],
   "source": [
    "type(lk)"
   ]
  },
  {
   "cell_type": "code",
   "execution_count": 12,
   "id": "8b3d3795",
   "metadata": {},
   "outputs": [],
   "source": [
    "a,b,c=1,2,3"
   ]
  },
  {
   "cell_type": "code",
   "execution_count": 13,
   "id": "224e939e",
   "metadata": {},
   "outputs": [
    {
     "data": {
      "text/plain": [
       "1"
      ]
     },
     "execution_count": 13,
     "metadata": {},
     "output_type": "execute_result"
    }
   ],
   "source": [
    "a"
   ]
  },
  {
   "cell_type": "code",
   "execution_count": 14,
   "id": "cc03a498",
   "metadata": {},
   "outputs": [
    {
     "data": {
      "text/plain": [
       "2"
      ]
     },
     "execution_count": 14,
     "metadata": {},
     "output_type": "execute_result"
    }
   ],
   "source": [
    "b"
   ]
  },
  {
   "cell_type": "code",
   "execution_count": 15,
   "id": "5eff9980",
   "metadata": {},
   "outputs": [
    {
     "data": {
      "text/plain": [
       "3"
      ]
     },
     "execution_count": 15,
     "metadata": {},
     "output_type": "execute_result"
    }
   ],
   "source": [
    "c"
   ]
  },
  {
   "cell_type": "code",
   "execution_count": 16,
   "id": "7856bfb0",
   "metadata": {},
   "outputs": [],
   "source": [
    "a,b,c=1,'second',3"
   ]
  },
  {
   "cell_type": "code",
   "execution_count": 17,
   "id": "0da5c8d7",
   "metadata": {},
   "outputs": [
    {
     "data": {
      "text/plain": [
       "1"
      ]
     },
     "execution_count": 17,
     "metadata": {},
     "output_type": "execute_result"
    }
   ],
   "source": [
    "a"
   ]
  },
  {
   "cell_type": "code",
   "execution_count": 18,
   "id": "ef1c2e11",
   "metadata": {},
   "outputs": [
    {
     "data": {
      "text/plain": [
       "'second'"
      ]
     },
     "execution_count": 18,
     "metadata": {},
     "output_type": "execute_result"
    }
   ],
   "source": [
    "b"
   ]
  },
  {
   "cell_type": "code",
   "execution_count": 19,
   "id": "8f3923c3",
   "metadata": {},
   "outputs": [
    {
     "data": {
      "text/plain": [
       "3"
      ]
     },
     "execution_count": 19,
     "metadata": {},
     "output_type": "execute_result"
    }
   ],
   "source": [
    "c"
   ]
  },
  {
   "cell_type": "code",
   "execution_count": 20,
   "id": "ade80c36",
   "metadata": {},
   "outputs": [
    {
     "data": {
      "text/plain": [
       "str"
      ]
     },
     "execution_count": 20,
     "metadata": {},
     "output_type": "execute_result"
    }
   ],
   "source": [
    "type(b)"
   ]
  },
  {
   "cell_type": "code",
   "execution_count": 21,
   "id": "f2e7700b",
   "metadata": {},
   "outputs": [
    {
     "data": {
      "text/plain": [
       "4"
      ]
     },
     "execution_count": 21,
     "metadata": {},
     "output_type": "execute_result"
    }
   ],
   "source": [
    "a+c"
   ]
  },
  {
   "cell_type": "code",
   "execution_count": 22,
   "id": "5635932b",
   "metadata": {},
   "outputs": [],
   "source": [
    "d=a+c"
   ]
  },
  {
   "cell_type": "code",
   "execution_count": 23,
   "id": "82b951b3",
   "metadata": {},
   "outputs": [
    {
     "data": {
      "text/plain": [
       "4"
      ]
     },
     "execution_count": 23,
     "metadata": {},
     "output_type": "execute_result"
    }
   ],
   "source": [
    "d"
   ]
  },
  {
   "cell_type": "code",
   "execution_count": 24,
   "id": "6f463a85",
   "metadata": {},
   "outputs": [],
   "source": [
    "a,b,c='i','love','you'"
   ]
  },
  {
   "cell_type": "code",
   "execution_count": 25,
   "id": "e93182a5",
   "metadata": {},
   "outputs": [
    {
     "data": {
      "text/plain": [
       "'ilove'"
      ]
     },
     "execution_count": 25,
     "metadata": {},
     "output_type": "execute_result"
    }
   ],
   "source": [
    "a+b"
   ]
  },
  {
   "cell_type": "code",
   "execution_count": 26,
   "id": "b3fd40d7",
   "metadata": {},
   "outputs": [
    {
     "data": {
      "text/plain": [
       "'i love you'"
      ]
     },
     "execution_count": 26,
     "metadata": {},
     "output_type": "execute_result"
    }
   ],
   "source": [
    "a+' '+b+' '+c"
   ]
  },
  {
   "cell_type": "code",
   "execution_count": 27,
   "id": "ce2ba8ed",
   "metadata": {},
   "outputs": [],
   "source": [
    "d=a+' '+b+' '+c"
   ]
  },
  {
   "cell_type": "code",
   "execution_count": 28,
   "id": "af3acfee",
   "metadata": {},
   "outputs": [
    {
     "data": {
      "text/plain": [
       "str"
      ]
     },
     "execution_count": 28,
     "metadata": {},
     "output_type": "execute_result"
    }
   ],
   "source": [
    "type(d)"
   ]
  },
  {
   "cell_type": "code",
   "execution_count": 29,
   "id": "22e5029a",
   "metadata": {},
   "outputs": [
    {
     "data": {
      "text/plain": [
       "'i love you'"
      ]
     },
     "execution_count": 29,
     "metadata": {},
     "output_type": "execute_result"
    }
   ],
   "source": [
    "d"
   ]
  },
  {
   "cell_type": "code",
   "execution_count": 30,
   "id": "79002645",
   "metadata": {},
   "outputs": [
    {
     "name": "stdout",
     "output_type": "stream",
     "text": [
      "i love you\n"
     ]
    }
   ],
   "source": [
    "print(a,b,c)"
   ]
  },
  {
   "cell_type": "code",
   "execution_count": 31,
   "id": "b976b4ab",
   "metadata": {},
   "outputs": [],
   "source": [
    "e=\"test\""
   ]
  },
  {
   "cell_type": "code",
   "execution_count": 32,
   "id": "8db58eec",
   "metadata": {},
   "outputs": [
    {
     "data": {
      "text/plain": [
       "'test'"
      ]
     },
     "execution_count": 32,
     "metadata": {},
     "output_type": "execute_result"
    }
   ],
   "source": [
    "e"
   ]
  },
  {
   "cell_type": "code",
   "execution_count": 33,
   "id": "42a2d1cd",
   "metadata": {},
   "outputs": [],
   "source": [
    "d='test1'"
   ]
  },
  {
   "cell_type": "code",
   "execution_count": 34,
   "id": "c9cce1b0",
   "metadata": {},
   "outputs": [
    {
     "data": {
      "text/plain": [
       "'test1'"
      ]
     },
     "execution_count": 34,
     "metadata": {},
     "output_type": "execute_result"
    }
   ],
   "source": [
    "d"
   ]
  },
  {
   "cell_type": "code",
   "execution_count": 36,
   "id": "da3d0975",
   "metadata": {},
   "outputs": [],
   "source": [
    "_f='test2'"
   ]
  },
  {
   "cell_type": "code",
   "execution_count": 38,
   "id": "93f0dab5",
   "metadata": {},
   "outputs": [
    {
     "data": {
      "text/plain": [
       "'test2'"
      ]
     },
     "execution_count": 38,
     "metadata": {},
     "output_type": "execute_result"
    }
   ],
   "source": [
    "_f"
   ]
  },
  {
   "cell_type": "code",
   "execution_count": 39,
   "id": "5d8e87fb",
   "metadata": {},
   "outputs": [],
   "source": [
    "_g=1.23345677"
   ]
  },
  {
   "cell_type": "code",
   "execution_count": 40,
   "id": "6fa54022",
   "metadata": {},
   "outputs": [
    {
     "data": {
      "text/plain": [
       "float"
      ]
     },
     "execution_count": 40,
     "metadata": {},
     "output_type": "execute_result"
    }
   ],
   "source": [
    "type(_g)"
   ]
  },
  {
   "cell_type": "code",
   "execution_count": 42,
   "id": "62e8b184",
   "metadata": {},
   "outputs": [],
   "source": [
    "h=True"
   ]
  },
  {
   "cell_type": "code",
   "execution_count": 43,
   "id": "d1ac7ec1",
   "metadata": {},
   "outputs": [
    {
     "data": {
      "text/plain": [
       "bool"
      ]
     },
     "execution_count": 43,
     "metadata": {},
     "output_type": "execute_result"
    }
   ],
   "source": [
    "type(h)"
   ]
  },
  {
   "cell_type": "code",
   "execution_count": 45,
   "id": "a5ca8666",
   "metadata": {},
   "outputs": [],
   "source": [
    "_i=False"
   ]
  },
  {
   "cell_type": "code",
   "execution_count": 46,
   "id": "381fca8d",
   "metadata": {},
   "outputs": [
    {
     "data": {
      "text/plain": [
       "1"
      ]
     },
     "execution_count": 46,
     "metadata": {},
     "output_type": "execute_result"
    }
   ],
   "source": [
    "False+True+False"
   ]
  },
  {
   "cell_type": "code",
   "execution_count": 47,
   "id": "3a6410c6",
   "metadata": {},
   "outputs": [
    {
     "name": "stdout",
     "output_type": "stream",
     "text": [
      "True\n"
     ]
    }
   ],
   "source": [
    "print(True)"
   ]
  },
  {
   "cell_type": "code",
   "execution_count": 49,
   "id": "3729c3c2",
   "metadata": {},
   "outputs": [
    {
     "name": "stdout",
     "output_type": "stream",
     "text": [
      "1\n"
     ]
    }
   ],
   "source": [
    "print(True+False)"
   ]
  },
  {
   "cell_type": "code",
   "execution_count": 52,
   "id": "c3d07cff",
   "metadata": {},
   "outputs": [],
   "source": [
    "k=5+6j"
   ]
  },
  {
   "cell_type": "code",
   "execution_count": 54,
   "id": "93b59e94",
   "metadata": {},
   "outputs": [
    {
     "data": {
      "text/plain": [
       "complex"
      ]
     },
     "execution_count": 54,
     "metadata": {},
     "output_type": "execute_result"
    }
   ],
   "source": [
    "type(k)\n"
   ]
  },
  {
   "cell_type": "code",
   "execution_count": 55,
   "id": "18d1fb80",
   "metadata": {},
   "outputs": [],
   "source": [
    "l=8j+1"
   ]
  },
  {
   "cell_type": "code",
   "execution_count": 56,
   "id": "42a116e2",
   "metadata": {},
   "outputs": [
    {
     "data": {
      "text/plain": [
       "(-43+46j)"
      ]
     },
     "execution_count": 56,
     "metadata": {},
     "output_type": "execute_result"
    }
   ],
   "source": [
    "k*l"
   ]
  },
  {
   "cell_type": "code",
   "execution_count": 57,
   "id": "67cf1dab",
   "metadata": {},
   "outputs": [
    {
     "data": {
      "text/plain": [
       "(0.8153846153846154-0.5230769230769231j)"
      ]
     },
     "execution_count": 57,
     "metadata": {},
     "output_type": "execute_result"
    }
   ],
   "source": [
    "k/l"
   ]
  },
  {
   "cell_type": "code",
   "execution_count": 59,
   "id": "e6fcf965",
   "metadata": {},
   "outputs": [
    {
     "data": {
      "text/plain": [
       "1.0"
      ]
     },
     "execution_count": 59,
     "metadata": {},
     "output_type": "execute_result"
    }
   ],
   "source": [
    "l.real"
   ]
  },
  {
   "cell_type": "code",
   "execution_count": 60,
   "id": "6019d66e",
   "metadata": {},
   "outputs": [
    {
     "data": {
      "text/plain": [
       "8.0"
      ]
     },
     "execution_count": 60,
     "metadata": {},
     "output_type": "execute_result"
    }
   ],
   "source": [
    "l.imag"
   ]
  },
  {
   "cell_type": "code",
   "execution_count": 61,
   "id": "f2af8e3b",
   "metadata": {},
   "outputs": [
    {
     "data": {
      "text/plain": [
       "'1+too'"
      ]
     },
     "execution_count": 61,
     "metadata": {},
     "output_type": "execute_result"
    }
   ],
   "source": [
    "'1+too'"
   ]
  },
  {
   "cell_type": "code",
   "execution_count": 62,
   "id": "50a2b623",
   "metadata": {},
   "outputs": [
    {
     "data": {
      "text/plain": [
       "'1+too'"
      ]
     },
     "execution_count": 62,
     "metadata": {},
     "output_type": "execute_result"
    }
   ],
   "source": [
    "\"1+too\""
   ]
  },
  {
   "cell_type": "code",
   "execution_count": 75,
   "id": "dd003b23",
   "metadata": {},
   "outputs": [],
   "source": [
    "int=20"
   ]
  },
  {
   "cell_type": "code",
   "execution_count": 176,
   "id": "831eac10",
   "metadata": {},
   "outputs": [
    {
     "data": {
      "text/plain": [
       "60"
      ]
     },
     "execution_count": 176,
     "metadata": {},
     "output_type": "execute_result"
    }
   ],
   "source": [
    "3*int"
   ]
  },
  {
   "cell_type": "code",
   "execution_count": 80,
   "id": "9ed76d4f",
   "metadata": {},
   "outputs": [
    {
     "name": "stdout",
     "output_type": "stream",
     "text": [
      "enter a integer 50\n"
     ]
    }
   ],
   "source": [
    "n=input(\"enter a integer \")"
   ]
  },
  {
   "cell_type": "code",
   "execution_count": 81,
   "id": "9ae3a7d0",
   "metadata": {},
   "outputs": [
    {
     "data": {
      "text/plain": [
       "'50'"
      ]
     },
     "execution_count": 81,
     "metadata": {},
     "output_type": "execute_result"
    }
   ],
   "source": [
    "n"
   ]
  },
  {
   "cell_type": "code",
   "execution_count": 82,
   "id": "b5196d3a",
   "metadata": {},
   "outputs": [
    {
     "data": {
      "text/plain": [
       "str"
      ]
     },
     "execution_count": 82,
     "metadata": {},
     "output_type": "execute_result"
    }
   ],
   "source": [
    "type(n)"
   ]
  },
  {
   "cell_type": "code",
   "execution_count": 84,
   "id": "1c283dab",
   "metadata": {},
   "outputs": [
    {
     "name": "stdout",
     "output_type": "stream",
     "text": [
      "check\n"
     ]
    }
   ],
   "source": [
    "n=input()"
   ]
  },
  {
   "cell_type": "code",
   "execution_count": 177,
   "id": "5a015884",
   "metadata": {},
   "outputs": [
    {
     "data": {
      "text/plain": [
       "'howareyou'"
      ]
     },
     "execution_count": 177,
     "metadata": {},
     "output_type": "execute_result"
    }
   ],
   "source": [
    "\"how\"+\"are\"+\"you\""
   ]
  },
  {
   "cell_type": "code",
   "execution_count": 85,
   "id": "4fff3ccd",
   "metadata": {},
   "outputs": [
    {
     "data": {
      "text/plain": [
       "'check'"
      ]
     },
     "execution_count": 85,
     "metadata": {},
     "output_type": "execute_result"
    }
   ],
   "source": [
    "n"
   ]
  },
  {
   "cell_type": "code",
   "execution_count": 88,
   "id": "7f56a648",
   "metadata": {},
   "outputs": [
    {
     "name": "stdout",
     "output_type": "stream",
     "text": [
      "enter100\n"
     ]
    }
   ],
   "source": [
    "n=input(\"enter\" )"
   ]
  },
  {
   "cell_type": "code",
   "execution_count": null,
   "id": "97bcefea",
   "metadata": {},
   "outputs": [],
   "source": []
  },
  {
   "cell_type": "code",
   "execution_count": 89,
   "id": "d2ba3e85",
   "metadata": {},
   "outputs": [
    {
     "data": {
      "text/plain": [
       "'100'"
      ]
     },
     "execution_count": 89,
     "metadata": {},
     "output_type": "execute_result"
    }
   ],
   "source": [
    "n"
   ]
  },
  {
   "cell_type": "code",
   "execution_count": 90,
   "id": "a0bb7a5e",
   "metadata": {},
   "outputs": [
    {
     "name": "stdout",
     "output_type": "stream",
     "text": [
      "100\n"
     ]
    }
   ],
   "source": [
    "n=input()"
   ]
  },
  {
   "cell_type": "code",
   "execution_count": 91,
   "id": "6477f84b",
   "metadata": {},
   "outputs": [
    {
     "data": {
      "text/plain": [
       "str"
      ]
     },
     "execution_count": 91,
     "metadata": {},
     "output_type": "execute_result"
    }
   ],
   "source": [
    "type(n)"
   ]
  },
  {
   "cell_type": "code",
   "execution_count": 100,
   "id": "2110513b",
   "metadata": {},
   "outputs": [],
   "source": [
    "a=10"
   ]
  },
  {
   "cell_type": "code",
   "execution_count": 101,
   "id": "5e12c86f",
   "metadata": {},
   "outputs": [],
   "source": [
    "if a<9:\n",
    "    pass"
   ]
  },
  {
   "cell_type": "code",
   "execution_count": 117,
   "id": "a72e936e",
   "metadata": {},
   "outputs": [
    {
     "name": "stdout",
     "output_type": "stream",
     "text": [
      "input a number55\n",
      " my data is lesser then 100\n"
     ]
    }
   ],
   "source": [
    "a = float(input(\"input a number\"))\n",
    "if a <34:\n",
    "    print(\"data input is lesser then 34 and i am fine with it \")\n",
    "elif a < 100:\n",
    "    print(\" my data is lesser then 100\")\n",
    "    \n",
    "else:\n",
    "    print ( \"user input is not lesser then 34\")"
   ]
  },
  {
   "cell_type": "code",
   "execution_count": 118,
   "id": "069d44f5",
   "metadata": {},
   "outputs": [
    {
     "name": "stdout",
     "output_type": "stream",
     "text": [
      "input a number30\n",
      "data input is lesser then 34 and i am fine with it \n"
     ]
    }
   ],
   "source": [
    "a = float(input(\"input a number\" ))\n",
    "if a <34:\n",
    "    print(\"data input is lesser then 34 and i am fine with it \")\n",
    "elif a < 100:\n",
    "    print(\" my data is lesser then 100\")\n",
    "    \n",
    "else:\n",
    "    print ( \"user input is not lesser then 34\")"
   ]
  },
  {
   "cell_type": "code",
   "execution_count": 119,
   "id": "8468ac4b",
   "metadata": {},
   "outputs": [
    {
     "name": "stdout",
     "output_type": "stream",
     "text": [
      "Enter a number 55\n",
      "Entered number is greater than 50\n"
     ]
    }
   ],
   "source": [
    "a=float(input(\"Enter a number \"))\n",
    "if a<30: \n",
    "    print(\"Entered number is less than 30\")\n",
    "elif a<50: \n",
    "    print(\"Entered number is more than 30 and less than 50\")\n",
    "else: \n",
    "    print(\"Entered number is greater than 50\")"
   ]
  },
  {
   "cell_type": "code",
   "execution_count": 120,
   "id": "11d6042f",
   "metadata": {},
   "outputs": [
    {
     "name": "stdout",
     "output_type": "stream",
     "text": [
      "Enter a number 10\n",
      "Entered number is less than 30\n"
     ]
    }
   ],
   "source": [
    "a=float(input(\"Enter a number \"))\n",
    "if a<30: \n",
    "    print(\"Entered number is less than 30\")\n",
    "elif a<50: \n",
    "    print(\"Entered number is more than 30 and less than 50\")\n",
    "else: \n",
    "    print(\"Entered number is greater than 50\")"
   ]
  },
  {
   "cell_type": "code",
   "execution_count": 123,
   "id": "6f8dc292",
   "metadata": {},
   "outputs": [
    {
     "name": "stdout",
     "output_type": "stream",
     "text": [
      "Enter a number \n",
      "None10\n"
     ]
    }
   ],
   "source": [
    "a=float(input(print(\"Enter a number \")))"
   ]
  },
  {
   "cell_type": "code",
   "execution_count": 124,
   "id": "9dba1647",
   "metadata": {},
   "outputs": [
    {
     "data": {
      "text/plain": [
       "10.0"
      ]
     },
     "execution_count": 124,
     "metadata": {},
     "output_type": "execute_result"
    }
   ],
   "source": [
    "a"
   ]
  },
  {
   "cell_type": "code",
   "execution_count": 126,
   "id": "cd863c00",
   "metadata": {},
   "outputs": [],
   "source": [
    "a=10"
   ]
  },
  {
   "cell_type": "code",
   "execution_count": 127,
   "id": "0bd1719d",
   "metadata": {},
   "outputs": [
    {
     "data": {
      "text/plain": [
       "int"
      ]
     },
     "execution_count": 127,
     "metadata": {},
     "output_type": "execute_result"
    }
   ],
   "source": [
    "type(a)"
   ]
  },
  {
   "cell_type": "code",
   "execution_count": 128,
   "id": "be67db90",
   "metadata": {},
   "outputs": [
    {
     "name": "stdout",
     "output_type": "stream",
     "text": [
      "Enter a number\n",
      "None9\n"
     ]
    }
   ],
   "source": [
    "a=float(input(print(\"Enter a number\")))"
   ]
  },
  {
   "cell_type": "code",
   "execution_count": 129,
   "id": "090dc745",
   "metadata": {},
   "outputs": [
    {
     "data": {
      "text/plain": [
       "float"
      ]
     },
     "execution_count": 129,
     "metadata": {},
     "output_type": "execute_result"
    }
   ],
   "source": [
    "type(a)"
   ]
  },
  {
   "cell_type": "code",
   "execution_count": 130,
   "id": "faecf34d",
   "metadata": {},
   "outputs": [
    {
     "data": {
      "text/plain": [
       "9.0"
      ]
     },
     "execution_count": 130,
     "metadata": {},
     "output_type": "execute_result"
    }
   ],
   "source": [
    "a"
   ]
  },
  {
   "cell_type": "code",
   "execution_count": 131,
   "id": "12730b69",
   "metadata": {},
   "outputs": [
    {
     "name": "stdout",
     "output_type": "stream",
     "text": [
      "Enter a number\n",
      "None8\n"
     ]
    }
   ],
   "source": [
    "a=float(input(print(\"Enter a number\") ))"
   ]
  },
  {
   "cell_type": "code",
   "execution_count": 139,
   "id": "ac0f6f1b",
   "metadata": {},
   "outputs": [
    {
     "name": "stdout",
     "output_type": "stream",
     "text": [
      "Enter your salary\n",
      "None850\n",
      "your salary is too low\n",
      "now i understand how true works\n"
     ]
    }
   ],
   "source": [
    "s=float(input(print(\"Enter your salary\")))\n",
    "if s<1000:\n",
    "    print(\"your salary is too low\")\n",
    "    if True:\n",
    "        print(\"now i understand how true works\")\n",
    "    elif s<5000:\n",
    "        print(\"your salary is OK\")\n",
    "    else:\n",
    "        print(\"incorrect salary entered\")"
   ]
  },
  {
   "cell_type": "code",
   "execution_count": 149,
   "id": "7c30fa50",
   "metadata": {},
   "outputs": [
    {
     "name": "stdout",
     "output_type": "stream",
     "text": [
      "Enter your salary\n",
      "None5\n",
      "salary is TOO LOW\n"
     ]
    }
   ],
   "source": [
    "s=float(input(print(\"Enter your salary\")))\n",
    "if s>1000:\n",
    "    print(\"your salary is too low\")\n",
    "    if True:\n",
    "        print(\"now i understand how true works\")\n",
    "    elif s<5000:\n",
    "        print(\"your salary is between 1000 and 5000\")\n",
    "    else:\n",
    "        print(\"salary is above 5000\")\n",
    "elif a<500:\n",
    "    print(\"salary is TOO LOW\")\n",
    "else:\n",
    "    print(\"salary is negligible\")"
   ]
  },
  {
   "cell_type": "code",
   "execution_count": 150,
   "id": "4ec2c17f",
   "metadata": {},
   "outputs": [
    {
     "name": "stdout",
     "output_type": "stream",
     "text": [
      "Enter your salary\n",
      "None10000\n",
      "your salary is too low\n",
      "now i understand how true works\n"
     ]
    }
   ],
   "source": [
    "s=float(input(print(\"Enter your salary\")))\n",
    "if s>1000:\n",
    "    print(\"your salary is too low\")\n",
    "    if True:\n",
    "        print(\"now i understand how true works\")\n",
    "    elif s<5000:\n",
    "        print(\"your salary is between 1000 and 5000\")\n",
    "    else:\n",
    "        print(\"salary is above 5000\")\n",
    "elif a<500:\n",
    "    print(\"salary is TOO LOW\")\n",
    "else:\n",
    "    print(\"salary is negligible\")"
   ]
  },
  {
   "cell_type": "code",
   "execution_count": 151,
   "id": "193b6895",
   "metadata": {},
   "outputs": [
    {
     "name": "stdout",
     "output_type": "stream",
     "text": [
      "Enter your salary\n",
      "None10000\n",
      "your salary is above 1000\n",
      "now i understand how true works\n"
     ]
    }
   ],
   "source": [
    "s=float(input(print(\"Enter your salary\")))\n",
    "if s>1000:\n",
    "    print(\"your salary is above 1000\")\n",
    "    if True:\n",
    "        print(\"now i understand how true works\")\n",
    "    elif s<5000:\n",
    "        print(\"your salary is between 1000 and 5000\")\n",
    "    else:\n",
    "        print(\"salary is above 5000\")\n",
    "elif a<500:\n",
    "    print(\"salary is TOO LOW\")\n",
    "else:\n",
    "    print(\"salary is negligible\")"
   ]
  },
  {
   "cell_type": "code",
   "execution_count": 152,
   "id": "cd771ed0",
   "metadata": {},
   "outputs": [
    {
     "name": "stdout",
     "output_type": "stream",
     "text": [
      "Enter your salary\n",
      "None600\n",
      "salary is TOO LOW\n"
     ]
    }
   ],
   "source": [
    "s=float(input(print(\"Enter your salary\")))\n",
    "if s>1000:\n",
    "    print(\"your salary is above 1000\")\n",
    "    if True:\n",
    "        print(\"now i understand how true works\")\n",
    "    elif s<5000:\n",
    "        print(\"your salary is between 1000 and 5000\")\n",
    "    else:\n",
    "        print(\"salary is above 5000\")\n",
    "elif a<500:\n",
    "    print(\"salary is TOO LOW\")\n",
    "else:\n",
    "    print(\"salary is negligible\")"
   ]
  },
  {
   "cell_type": "code",
   "execution_count": 153,
   "id": "df6f1eaf",
   "metadata": {},
   "outputs": [
    {
     "data": {
      "text/plain": [
       "float"
      ]
     },
     "execution_count": 153,
     "metadata": {},
     "output_type": "execute_result"
    }
   ],
   "source": [
    "type(a)"
   ]
  },
  {
   "cell_type": "code",
   "execution_count": null,
   "id": "14323240",
   "metadata": {},
   "outputs": [],
   "source": [
    "def()"
   ]
  },
  {
   "cell_type": "code",
   "execution_count": null,
   "id": "430d68e8",
   "metadata": {},
   "outputs": [],
   "source": [
    "test()"
   ]
  },
  {
   "cell_type": "code",
   "execution_count": null,
   "id": "698273e6",
   "metadata": {},
   "outputs": [],
   "source": [
    "test()"
   ]
  },
  {
   "cell_type": "code",
   "execution_count": null,
   "id": "13fc2e1b",
   "metadata": {},
   "outputs": [],
   "source": [
    "def test(a1=str a2=int)\n",
    "    a1=\"success\"\n",
    "    a2=10\n",
    "    print(a1, a2)"
   ]
  },
  {
   "cell_type": "code",
   "execution_count": null,
   "id": "ce74b530",
   "metadata": {},
   "outputs": [],
   "source": [
    "test()"
   ]
  },
  {
   "cell_type": "code",
   "execution_count": null,
   "id": "bf5a341b",
   "metadata": {},
   "outputs": [],
   "source": [
    "def test(a1=str a2=int)\n",
    "    a1=\"success\"\n",
    "    a2=10\n",
    "    print(a1, a2)"
   ]
  },
  {
   "cell_type": "code",
   "execution_count": null,
   "id": "0c3bb901",
   "metadata": {},
   "outputs": [],
   "source": [
    "test()"
   ]
  },
  {
   "cell_type": "code",
   "execution_count": null,
   "id": "749093bd",
   "metadata": {},
   "outputs": [],
   "source": [
    "input()"
   ]
  },
  {
   "cell_type": "code",
   "execution_count": null,
   "id": "d1bb6c1a",
   "metadata": {},
   "outputs": [],
   "source": []
  },
  {
   "cell_type": "code",
   "execution_count": 156,
   "id": "7274ddd3",
   "metadata": {},
   "outputs": [
    {
     "name": "stdout",
     "output_type": "stream",
     "text": [
      "sa\n"
     ]
    },
    {
     "data": {
      "text/plain": [
       "'sa'"
      ]
     },
     "execution_count": 156,
     "metadata": {},
     "output_type": "execute_result"
    }
   ],
   "source": [
    "input()"
   ]
  },
  {
   "cell_type": "code",
   "execution_count": 160,
   "id": "ea2bedab",
   "metadata": {},
   "outputs": [],
   "source": [
    "def test(name = str  , test = int):\n",
    "    name = \"fsfds\"\n",
    "    test= \"fsdfs\"\n",
    "    print(name, test)"
   ]
  },
  {
   "cell_type": "code",
   "execution_count": 161,
   "id": "68eec6d0",
   "metadata": {},
   "outputs": [
    {
     "name": "stdout",
     "output_type": "stream",
     "text": [
      "fsfds fsdfs\n"
     ]
    }
   ],
   "source": [
    "test()"
   ]
  },
  {
   "cell_type": "code",
   "execution_count": 163,
   "id": "66759dcf",
   "metadata": {},
   "outputs": [],
   "source": [
    "def great(a1 = str , a2 = float):\n",
    "    a1 = \"success\"\n",
    "    a2 = 60\n",
    "    print(a1 , a2)\n",
    "    "
   ]
  },
  {
   "cell_type": "code",
   "execution_count": 164,
   "id": "36759d62",
   "metadata": {},
   "outputs": [
    {
     "name": "stdout",
     "output_type": "stream",
     "text": [
      "success 60\n"
     ]
    }
   ],
   "source": [
    "great()"
   ]
  },
  {
   "cell_type": "code",
   "execution_count": 166,
   "id": "d0580d99",
   "metadata": {},
   "outputs": [
    {
     "name": "stdout",
     "output_type": "stream",
     "text": [
      "fsfsdfs\n"
     ]
    }
   ],
   "source": [
    "a1=str(input())"
   ]
  },
  {
   "cell_type": "markdown",
   "id": "8217ce6f",
   "metadata": {},
   "source": [
    "# "
   ]
  },
  {
   "cell_type": "code",
   "execution_count": 167,
   "id": "892615f1",
   "metadata": {},
   "outputs": [
    {
     "data": {
      "text/plain": [
       "'fsfsdfs'"
      ]
     },
     "execution_count": 167,
     "metadata": {},
     "output_type": "execute_result"
    }
   ],
   "source": [
    "a1"
   ]
  },
  {
   "cell_type": "code",
   "execution_count": 168,
   "id": "5b2bce8e",
   "metadata": {},
   "outputs": [],
   "source": [
    "def great1(a1 = str , a2 = float):\n",
    "    a1=input(\"Enter a1\")\n",
    "    a2=input(\"Enter a2\")\n",
    "    print(a1 , a2)"
   ]
  },
  {
   "cell_type": "code",
   "execution_count": 169,
   "id": "4c872a5c",
   "metadata": {},
   "outputs": [
    {
     "name": "stdout",
     "output_type": "stream",
     "text": [
      "Enter a1great\n",
      "Enter a2well done\n",
      "great well done\n"
     ]
    }
   ],
   "source": [
    "great1()"
   ]
  },
  {
   "cell_type": "code",
   "execution_count": 170,
   "id": "a604a042",
   "metadata": {},
   "outputs": [],
   "source": [
    "def great1(a1 = str , a2 = float):\n",
    "    a1=input(\"Enter a1: \")\n",
    "    a2=input(\"Enter a2: \")\n",
    "    print(a1 , a2)"
   ]
  },
  {
   "cell_type": "code",
   "execution_count": 171,
   "id": "33ff81df",
   "metadata": {},
   "outputs": [
    {
     "name": "stdout",
     "output_type": "stream",
     "text": [
      "Enter a1: you are getting there \n",
      "Enter a2: keep it up\n",
      "you are getting there  keep it up\n"
     ]
    }
   ],
   "source": [
    "great1()"
   ]
  },
  {
   "cell_type": "code",
   "execution_count": 172,
   "id": "eb23a6c4",
   "metadata": {},
   "outputs": [
    {
     "data": {
      "text/plain": [
       "9.0"
      ]
     },
     "execution_count": 172,
     "metadata": {},
     "output_type": "execute_result"
    }
   ],
   "source": [
    "a-10\n",
    "a+1"
   ]
  },
  {
   "cell_type": "code",
   "execution_count": 173,
   "id": "4309b476",
   "metadata": {},
   "outputs": [
    {
     "data": {
      "text/plain": [
       "11"
      ]
     },
     "execution_count": 173,
     "metadata": {},
     "output_type": "execute_result"
    }
   ],
   "source": [
    "a=10\n",
    "a+1"
   ]
  },
  {
   "cell_type": "code",
   "execution_count": 174,
   "id": "76ecbc77",
   "metadata": {},
   "outputs": [
    {
     "data": {
      "text/plain": [
       "10"
      ]
     },
     "execution_count": 174,
     "metadata": {},
     "output_type": "execute_result"
    }
   ],
   "source": [
    "a"
   ]
  },
  {
   "cell_type": "code",
   "execution_count": 175,
   "id": "186ef2d6",
   "metadata": {},
   "outputs": [
    {
     "data": {
      "text/plain": [
       "'aaa'"
      ]
     },
     "execution_count": 175,
     "metadata": {},
     "output_type": "execute_result"
    }
   ],
   "source": [
    "'a'*3"
   ]
  },
  {
   "cell_type": "code",
   "execution_count": null,
   "id": "8f582f62",
   "metadata": {},
   "outputs": [],
   "source": []
  }
 ],
 "metadata": {
  "kernelspec": {
   "display_name": "Python 3 (ipykernel)",
   "language": "python",
   "name": "python3"
  },
  "language_info": {
   "codemirror_mode": {
    "name": "ipython",
    "version": 3
   },
   "file_extension": ".py",
   "mimetype": "text/x-python",
   "name": "python",
   "nbconvert_exporter": "python",
   "pygments_lexer": "ipython3",
   "version": "3.9.7"
  }
 },
 "nbformat": 4,
 "nbformat_minor": 5
}
