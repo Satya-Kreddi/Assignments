{
 "cells": [
  {
   "cell_type": "code",
   "execution_count": null,
   "id": "7470d7f8",
   "metadata": {},
   "outputs": [],
   "source": [
    "##Programming Assignment 2 Solutions"
   ]
  },
  {
   "cell_type": "code",
   "execution_count": 1,
   "id": "f2e897ce",
   "metadata": {},
   "outputs": [],
   "source": [
    "def km_miles():\n",
    "    choice = int(input('Enter 1 to convert miles to km and 2 to convert km to miles '))\n",
    "    if choice == 1:\n",
    "        miles = float(input('Enter miles to covert into km '))\n",
    "        kms = miles*1.609344\n",
    "        print(miles , 'miles are equal to' , kms, 'kms')\n",
    "    elif choice == 2:\n",
    "        kms = float(input('Enter kms to convert into miles '))\n",
    "        miles = kms/1.609344\n",
    "        print(kms , 'kms are equal to' , miles , 'miles')\n",
    "    else:\n",
    "        print('Incorrect choice, try again')"
   ]
  },
  {
   "cell_type": "code",
   "execution_count": 2,
   "id": "c321346f",
   "metadata": {},
   "outputs": [
    {
     "name": "stdout",
     "output_type": "stream",
     "text": [
      "Enter 1 to convert miles to km and 2 to convert km to miles 12\n",
      "Incorrect choice, try again\n"
     ]
    }
   ],
   "source": [
    "km_miles()"
   ]
  },
  {
   "cell_type": "code",
   "execution_count": 3,
   "id": "286f7f1b",
   "metadata": {},
   "outputs": [
    {
     "name": "stdout",
     "output_type": "stream",
     "text": [
      "Enter 1 to convert miles to km and 2 to convert km to miles 1\n",
      "Enter miles to covert into km 10\n",
      "10.0 miles are equal to 16.09344 kms\n"
     ]
    }
   ],
   "source": [
    "km_miles()"
   ]
  },
  {
   "cell_type": "code",
   "execution_count": 4,
   "id": "4481662b",
   "metadata": {},
   "outputs": [
    {
     "name": "stdout",
     "output_type": "stream",
     "text": [
      "Enter 1 to convert miles to km and 2 to convert km to miles 2\n",
      "Enter kms to convert into miles 10\n",
      "10.0 kms are equal to 6.2137119223733395 miles\n"
     ]
    }
   ],
   "source": [
    "km_miles()"
   ]
  },
  {
   "cell_type": "code",
   "execution_count": 5,
   "id": "3fe6d898",
   "metadata": {},
   "outputs": [],
   "source": [
    "def deg_f():\n",
    "    choice = int(input('Enter 1 to convert Deg C to F and 2 to convert F to C '))\n",
    "    if choice == 1:\n",
    "        degC = float(input('Enter temperature in Deg C '))\n",
    "        degF = (degC*9/5)+32\n",
    "        print(degC , 'Celsius in Fahrenheit:' , degF , 'F')\n",
    "    elif choice == 2:\n",
    "        degF = float(input('Enter temperature in Fahrenheit to convert into C '))\n",
    "        degC = (degF-32)*5/9\n",
    "        print(degF , 'Fahrenheit in Celsius:' , degC , 'C')\n",
    "    else:\n",
    "        print('Incorrect choice Try again')"
   ]
  },
  {
   "cell_type": "code",
   "execution_count": 6,
   "id": "8efb22cd",
   "metadata": {},
   "outputs": [
    {
     "name": "stdout",
     "output_type": "stream",
     "text": [
      "Enter 1 to convert Deg C to F and 2 to convert F to C 1\n",
      "Enter temperature in Deg C 15\n",
      "15.0 Celsius in Fahrenheit: 59.0 F\n"
     ]
    }
   ],
   "source": [
    "deg_f()"
   ]
  },
  {
   "cell_type": "code",
   "execution_count": 7,
   "id": "65da9424",
   "metadata": {},
   "outputs": [
    {
     "name": "stdout",
     "output_type": "stream",
     "text": [
      "Enter 1 to convert Deg C to F and 2 to convert F to C 2\n",
      "Enter temperature in Fahrenheit to convert into C 10\n",
      "10.0 Fahrenheit in Celsius: -12.222222222222221 C\n"
     ]
    }
   ],
   "source": [
    "deg_f()"
   ]
  },
  {
   "cell_type": "code",
   "execution_count": 8,
   "id": "a840c44a",
   "metadata": {},
   "outputs": [
    {
     "name": "stdout",
     "output_type": "stream",
     "text": [
      "   December 2021\n",
      "Mo Tu We Th Fr Sa Su\n",
      "       1  2  3  4  5\n",
      " 6  7  8  9 10 11 12\n",
      "13 14 15 16 17 18 19\n",
      "20 21 22 23 24 25 26\n",
      "27 28 29 30 31\n",
      "\n",
      "                                  2021\n",
      "\n",
      "      January                   February                   March\n",
      "Mo Tu We Th Fr Sa Su      Mo Tu We Th Fr Sa Su      Mo Tu We Th Fr Sa Su\n",
      "             1  2  3       1  2  3  4  5  6  7       1  2  3  4  5  6  7\n",
      " 4  5  6  7  8  9 10       8  9 10 11 12 13 14       8  9 10 11 12 13 14\n",
      "11 12 13 14 15 16 17      15 16 17 18 19 20 21      15 16 17 18 19 20 21\n",
      "18 19 20 21 22 23 24      22 23 24 25 26 27 28      22 23 24 25 26 27 28\n",
      "25 26 27 28 29 30 31                                29 30 31\n",
      "\n",
      "       April                      May                       June\n",
      "Mo Tu We Th Fr Sa Su      Mo Tu We Th Fr Sa Su      Mo Tu We Th Fr Sa Su\n",
      "          1  2  3  4                      1  2          1  2  3  4  5  6\n",
      " 5  6  7  8  9 10 11       3  4  5  6  7  8  9       7  8  9 10 11 12 13\n",
      "12 13 14 15 16 17 18      10 11 12 13 14 15 16      14 15 16 17 18 19 20\n",
      "19 20 21 22 23 24 25      17 18 19 20 21 22 23      21 22 23 24 25 26 27\n",
      "26 27 28 29 30            24 25 26 27 28 29 30      28 29 30\n",
      "                          31\n",
      "\n",
      "        July                     August                  September\n",
      "Mo Tu We Th Fr Sa Su      Mo Tu We Th Fr Sa Su      Mo Tu We Th Fr Sa Su\n",
      "          1  2  3  4                         1             1  2  3  4  5\n",
      " 5  6  7  8  9 10 11       2  3  4  5  6  7  8       6  7  8  9 10 11 12\n",
      "12 13 14 15 16 17 18       9 10 11 12 13 14 15      13 14 15 16 17 18 19\n",
      "19 20 21 22 23 24 25      16 17 18 19 20 21 22      20 21 22 23 24 25 26\n",
      "26 27 28 29 30 31         23 24 25 26 27 28 29      27 28 29 30\n",
      "                          30 31\n",
      "\n",
      "      October                   November                  December\n",
      "Mo Tu We Th Fr Sa Su      Mo Tu We Th Fr Sa Su      Mo Tu We Th Fr Sa Su\n",
      "             1  2  3       1  2  3  4  5  6  7             1  2  3  4  5\n",
      " 4  5  6  7  8  9 10       8  9 10 11 12 13 14       6  7  8  9 10 11 12\n",
      "11 12 13 14 15 16 17      15 16 17 18 19 20 21      13 14 15 16 17 18 19\n",
      "18 19 20 21 22 23 24      22 23 24 25 26 27 28      20 21 22 23 24 25 26\n",
      "25 26 27 28 29 30 31      29 30                     27 28 29 30 31\n",
      "\n"
     ]
    }
   ],
   "source": [
    "import calendar\n",
    "print(calendar.month(2021,12))\n",
    "print(calendar.calendar(2021,0,0,6))"
   ]
  },
  {
   "cell_type": "code",
   "execution_count": 9,
   "id": "de6eca9f",
   "metadata": {},
   "outputs": [],
   "source": [
    "import cmath\n",
    "def SolveQuadEq():\n",
    "    print('This program solves a quadratic equation')\n",
    "    a = float(input('Input <a> term in ax2+bx+c=0: '))\n",
    "    b = float(input('Input <b> term in ax2+bx+c=0: '))\n",
    "    c = float(input('Input <c> term in ax2+bx+c=0: '))\n",
    "    x1 = (-b+cmath.sqrt(b**2-4*a*c))/(2*a)\n",
    "    x2 = (-b-cmath.sqrt(b**2-4*a*c))/(2*a)\n",
    "    print('Solutions of the entered equation are {0} and {1}'.format(x1,x2))"
   ]
  },
  {
   "cell_type": "code",
   "execution_count": 10,
   "id": "502fb879",
   "metadata": {},
   "outputs": [
    {
     "name": "stdout",
     "output_type": "stream",
     "text": [
      "This program solves a quadratic equation\n",
      "Input <a> term in ax2+bx+c=0: 3\n",
      "Input <b> term in ax2+bx+c=0: 4\n",
      "Input <c> term in ax2+bx+c=0: 5\n",
      "Solutions of the entered equation are (-0.6666666666666666+1.1055415967851332j) and (-0.6666666666666666-1.1055415967851332j)\n"
     ]
    }
   ],
   "source": [
    "SolveQuadEq()"
   ]
  },
  {
   "cell_type": "code",
   "execution_count": 11,
   "id": "d853db12",
   "metadata": {},
   "outputs": [],
   "source": [
    "def Swap2nosNoTemp():\n",
    "    print('This program swaps entered 2 numbers without a temporary variable')\n",
    "    A = float(input('Enter number A: '))\n",
    "    B = float(input('Enter number B: '))\n",
    "    A,B = B, A\n",
    "    print('New values of A: {0} and B: {1}'.format(A,B))"
   ]
  },
  {
   "cell_type": "code",
   "execution_count": 12,
   "id": "2e43e790",
   "metadata": {},
   "outputs": [
    {
     "name": "stdout",
     "output_type": "stream",
     "text": [
      "This program swaps entered 2 numbers without a temporary variable\n",
      "Enter number A: 10\n",
      "Enter number B: 20\n",
      "New values of A: 20.0 and B: 10.0\n"
     ]
    }
   ],
   "source": [
    "Swap2nosNoTemp()"
   ]
  },
  {
   "cell_type": "code",
   "execution_count": null,
   "id": "869a0235",
   "metadata": {},
   "outputs": [],
   "source": []
  },
  {
   "cell_type": "code",
   "execution_count": null,
   "id": "d2b064c2",
   "metadata": {},
   "outputs": [],
   "source": []
  },
  {
   "cell_type": "code",
   "execution_count": null,
   "id": "7aa124dc",
   "metadata": {},
   "outputs": [],
   "source": []
  }
 ],
 "metadata": {
  "kernelspec": {
   "display_name": "Python 3 (ipykernel)",
   "language": "python",
   "name": "python3"
  },
  "language_info": {
   "codemirror_mode": {
    "name": "ipython",
    "version": 3
   },
   "file_extension": ".py",
   "mimetype": "text/x-python",
   "name": "python",
   "nbconvert_exporter": "python",
   "pygments_lexer": "ipython3",
   "version": "3.9.7"
  }
 },
 "nbformat": 4,
 "nbformat_minor": 5
}
