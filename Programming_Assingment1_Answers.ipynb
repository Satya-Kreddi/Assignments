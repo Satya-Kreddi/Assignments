{
 "cells": [
  {
   "cell_type": "code",
   "execution_count": 1,
   "id": "42686de2",
   "metadata": {},
   "outputs": [
    {
     "name": "stdout",
     "output_type": "stream",
     "text": [
      "Hello Python\n"
     ]
    }
   ],
   "source": [
    "print(\"Hello Python\")"
   ]
  },
  {
   "cell_type": "code",
   "execution_count": 2,
   "id": "d1e2bd5c",
   "metadata": {},
   "outputs": [],
   "source": [
    "def addordiv():\n",
    "    a1=int(input(\"Enter first no \"))\n",
    "    a2=int(input(\"Enter second no \"))\n",
    "    a3=int\n",
    "    print (\"Enter 1 to choose addition and 2 to division\")\n",
    "    oper=int(input())\n",
    "    if oper==1:\n",
    "        a3=a1+a2\n",
    "        print(a3)\n",
    "    elif oper==2:\n",
    "        a3=a2/a1\n",
    "        print(a3)\n",
    "    else:\n",
    "        print(\"Incorrect selection, try again\")"
   ]
  },
  {
   "cell_type": "code",
   "execution_count": 3,
   "id": "c9897497",
   "metadata": {},
   "outputs": [
    {
     "name": "stdout",
     "output_type": "stream",
     "text": [
      "Enter first no 10\n",
      "Enter second no 20\n",
      "Enter 1 to choose addition and 2 to division\n",
      "1\n",
      "30\n"
     ]
    }
   ],
   "source": [
    "addordiv()"
   ]
  },
  {
   "cell_type": "code",
   "execution_count": 4,
   "id": "0b4f3c01",
   "metadata": {},
   "outputs": [
    {
     "name": "stdout",
     "output_type": "stream",
     "text": [
      "Enter first no 10\n",
      "Enter second no 20\n",
      "Enter 1 to choose addition and 2 to division\n",
      "2\n",
      "2.0\n"
     ]
    }
   ],
   "source": [
    "addordiv()"
   ]
  },
  {
   "cell_type": "code",
   "execution_count": 5,
   "id": "7c2ced86",
   "metadata": {},
   "outputs": [],
   "source": [
    "def AreaTri():\n",
    "    print(\"Enter base or width of the triangle \")\n",
    "    b = float(input())\n",
    "    print(\"Enter height of the triangle \")\n",
    "    h = float(input())\n",
    "    a = b*h*0.5\n",
    "    print (\"Area of the triangle = \" + str(a))"
   ]
  },
  {
   "cell_type": "code",
   "execution_count": 6,
   "id": "e0fee212",
   "metadata": {},
   "outputs": [
    {
     "name": "stdout",
     "output_type": "stream",
     "text": [
      "Enter base or width of the triangle \n",
      "10\n",
      "Enter height of the triangle \n",
      "5\n",
      "Area of the triangle = 25.0\n"
     ]
    }
   ],
   "source": [
    "AreaTri()"
   ]
  },
  {
   "cell_type": "code",
   "execution_count": 7,
   "id": "bc3ef124",
   "metadata": {},
   "outputs": [],
   "source": [
    "def SwapNos():\n",
    "    print(\"Enter value of A\")\n",
    "    a = float(input())\n",
    "    print(\"Enter value of B\")\n",
    "    b = float(input())\n",
    "    c = a\n",
    "    a = b\n",
    "    b = c\n",
    "    print (\"New value of A \" + str(a))\n",
    "    print (\"New value of B \" + str(b))"
   ]
  },
  {
   "cell_type": "code",
   "execution_count": 8,
   "id": "c252cf8c",
   "metadata": {},
   "outputs": [
    {
     "name": "stdout",
     "output_type": "stream",
     "text": [
      "Enter value of A\n",
      "10\n",
      "Enter value of B\n",
      "20\n",
      "New value of A 20.0\n",
      "New value of B 10.0\n"
     ]
    }
   ],
   "source": [
    "SwapNos()"
   ]
  },
  {
   "cell_type": "code",
   "execution_count": 9,
   "id": "9821ae5b",
   "metadata": {},
   "outputs": [
    {
     "name": "stdout",
     "output_type": "stream",
     "text": [
      "the generated number is  79\n"
     ]
    }
   ],
   "source": [
    "import random\n",
    "ranno = random.randint(1,200)\n",
    "print(\"the generated number is \", ranno)"
   ]
  },
  {
   "cell_type": "code",
   "execution_count": null,
   "id": "9dbb8018",
   "metadata": {},
   "outputs": [],
   "source": []
  },
  {
   "cell_type": "code",
   "execution_count": null,
   "id": "93c6cc98",
   "metadata": {},
   "outputs": [],
   "source": []
  },
  {
   "cell_type": "code",
   "execution_count": null,
   "id": "4ca245d8",
   "metadata": {},
   "outputs": [],
   "source": []
  }
 ],
 "metadata": {
  "kernelspec": {
   "display_name": "Python 3 (ipykernel)",
   "language": "python",
   "name": "python3"
  },
  "language_info": {
   "codemirror_mode": {
    "name": "ipython",
    "version": 3
   },
   "file_extension": ".py",
   "mimetype": "text/x-python",
   "name": "python",
   "nbconvert_exporter": "python",
   "pygments_lexer": "ipython3",
   "version": "3.9.7"
  }
 },
 "nbformat": 4,
 "nbformat_minor": 5
}
